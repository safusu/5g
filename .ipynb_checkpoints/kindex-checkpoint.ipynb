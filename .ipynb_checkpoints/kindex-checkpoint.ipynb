{
 "cells": [
  {
   "cell_type": "code",
   "execution_count": 1,
   "metadata": {},
   "outputs": [],
   "source": [
    "import numpy as np\n",
    "import requests\n",
    "import matplotlib.pyplot as plt"
   ]
  },
  {
   "cell_type": "code",
   "execution_count": 2,
   "metadata": {},
   "outputs": [],
   "source": [
    "url='https://services.swpc.noaa.gov/text/daily-geomagnetic-indices.txt'"
   ]
  },
  {
   "cell_type": "code",
   "execution_count": 3,
   "metadata": {},
   "outputs": [
    {
     "data": {
      "text/plain": [
       "[':Product: Daily Geomagnetic Data          DGD.txt',\n",
       " ':Issued: 0030 UT 29 Aug 2020',\n",
       " '#',\n",
       " '#  Prepared by the U.S. Dept. of Commerce, NOAA, Space Weather Prediction Center',\n",
       " '#  Please send comment and suggestions to SWPC.Webmaster@noaa.gov',\n",
       " '#',\n",
       " '#               Last 30 Days Daily Geomagnetic Data',\n",
       " '#',\n",
       " '#',\n",
       " '#                Middle Latitude        High Latitude            Estimated',\n",
       " '#              - Fredericksburg -     ---- College ----      --- Planetary ---',\n",
       " '#  Date        A     K-indices        A     K-indices        A     K-indices',\n",
       " '2020 07 31     5  2 1 0 1 3 1 1 2     5  0 1 0 2 4 1 0 1     4  1 1 1 1 2 1 1 1',\n",
       " '2020 08 01     3  0 0 0 1 2 1 2 1     1  0 1 1 0 1 0 0 0     3  0 1 0 1 1 1 1 1',\n",
       " '2020 08 02     9  0 1 2 3 3 2 2 3    21  0 1 1 5 5 5 2 2     9  1 1 1 3 3 3 2 3',\n",
       " '2020 08 03    15  3 3 3 3 3 3 3 3    26  3 4 4 6 3 4 2 2    16  4 3 3 3 2 3 3 3',\n",
       " '2020 08 04     9  2 4 2 1 2 2 2 2    13  3 4 2 4 3 1 1 1     8  2 4 2 2 2 1 2 2',\n",
       " '2020 08 05     6  2 2 1 1 2 2 2 1     4  1 2 1 1 1 1 1 1     5  2 2 1 1 1 1 2 1',\n",
       " '2020 08 06     4  0 1 0 1 2 2 1 2     4  1 1 1 0 2 2 1 1     5  1 2 1 1 2 2 0 2',\n",
       " '2020 08 07     5  1 1 0 2 2 2 1 2     2  1 1 0 0 0 0 1 1     4  2 1 1 1 1 1 1 2',\n",
       " '2020 08 08     5  2 2 1 2 1 2 2 0     8  2 2 3 3 3 1 0 0     5  2 2 2 1 1 1 1 0',\n",
       " '2020 08 09     3  0 0 0 2 2 1 1 1     1  0 0 0 2 0 0 0 0     3  0 1 0 1 1 0 0 1',\n",
       " '2020 08 10     3  1 1 0 1 2 1 1 0     1  1 1 0 0 0 0 0 0     3  1 1 1 1 1 1 0 1',\n",
       " '2020 08 11     3  1 1 1 0 2 0 1 1     0  0 0 0 0 0 0 0 0     3  1 1 0 0 1 0 0 1',\n",
       " '2020 08 12     3  0 2 1 1 2 1 1 0     3  0 1 1 2 2 0 0 0     3  0 1 1 1 1 1 1 0',\n",
       " '2020 08 13     5  1 1 1 1 3 1 1 1     0  1 0 0 0 0 0 0 0     4  1 1 0 1 1 1 0 1',\n",
       " '2020 08 14     3  0 2 1 1 2 1 1 0     0  0 1 0 0 0 0 0 0     4  1 2 1 0 1 1 1 1',\n",
       " '2020 08 15     3  0 0 2 1 2 1 2 0     1  0 0 2 0 0 0 0 0     3  0 0 1 1 1 0 1 1',\n",
       " '2020 08 16     5  0 2 1 1 2 2 2 1     2  1 1 1 0 0 0 0 1     4  1 2 1 1 1 1 1 1',\n",
       " '2020 08 17     3  1 0 1 2 2 0 1 1     1  1 1 0 1 0 0 0 0     3  1 1 1 1 1 0 0 1',\n",
       " '2020 08 18     7  2 2 1 1 3 1 1 3     9  2 0 1 4 4 1 0 1     7  2 2 2 2 2 1 1 3',\n",
       " '2020 08 19     9  3 3 0 2 3 2 2 1     3  1 3 1 0 0 0 1 0     6  3 2 1 1 1 1 1 1',\n",
       " '2020 08 20     4  1 1 1 1 3 0 1 1     3  0 1 0 0 1 0 3 0     3  1 1 0 1 1 0 1 1',\n",
       " '2020 08 21     5  1 0 1 2 3 1 2 1     0  1 0 0 0 0 0 0 0     4  1 1 1 1 1 1 2 1',\n",
       " '2020 08 22    13  1 2 2 2 5 2 2 3     8  1 1 3 4 2 0 1 1     8  1 2 2 2 2 2 2 3',\n",
       " '2020 08 23     7  2 2 1 2 3 2 1 2     8  1 2 2 1 4 2 1 1     7  2 2 2 2 2 1 1 3',\n",
       " '2020 08 24     3  1 1 1 1 2 0 1 0     1  2 1 0 0 0 0 0 0     3  1 1 0 1 1 0 0 0',\n",
       " '2020 08 25     3  1 1 1 1 1 1 1 1     2  1 1 0 1 0 0 1 0     4  1 1 1 1 1 1 1 1',\n",
       " '2020 08 26     7  2 2 1 3 2 2 1 2     9  1 1 1 5 1 1 1 1     7  2 2 1 2 1 2 2 2',\n",
       " '2020 08 27     7  2 1 3 2 3 1 1 1    15  2 1 3 2 6 1 1 1     8  3 2 2 2 3 1 1 1',\n",
       " '2020 08 28     8  0 0 1 2 2 4 3 2    18  0 1 1 4 4 6 1 1    10  0 0 1 2 2 5 2 3',\n",
       " '2020 08 29    -1 -1-1-1-1-1-1-1-1    -1 -1-1-1-1-1-1-1-1    -1 -1-1-1-1-1-1-1-1']"
      ]
     },
     "execution_count": 3,
     "metadata": {},
     "output_type": "execute_result"
    }
   ],
   "source": [
    "r = requests.get(url)\n",
    "data=r.text.splitlines()\n",
    "data"
   ]
  },
  {
   "cell_type": "code",
   "execution_count": 4,
   "metadata": {},
   "outputs": [],
   "source": [
    "class event:\n",
    "    def __init__(self,line):\n",
    "        self.date=line[0:10]\n",
    "        self.middle=np.array(list(map(int,line[17:33].split())))\n",
    "        self.high=np.array(list(map(int,line[40:56].split())))\n",
    "        self.planetary=np.array(list(map(int,line[63:89].split())))\n",
    "        \n",
    "\n",
    "li=[]\n",
    "# Creating list of event class objects\n",
    "for line in data:\n",
    "    # Ignore commented lines\n",
    "    if line.startswith(\":\") == False and line.startswith(\"#\") == False:\n",
    "        # Ignore future dates\n",
    "        if line[14:16] != '-1':\n",
    "            d = event(line)\n",
    "            li.append(d)\n",
    "\n",
    "# For each latitude, merge recorded k-indexes\n",
    "k_middle=np.concatenate([o.middle for o in li])\n",
    "k_high=np.concatenate([o.high for o in li])\n",
    "k_planetary=np.concatenate([o.planetary for o in li])\n",
    "\n",
    "# Omit k-indices below 0 and above 4\n",
    "k_middle = k_middle[(k_middle >= 0) & (k_middle <=4)]\n",
    "k_high = k_high[(k_high >= 0) & (k_high <=4)]\n",
    "k_planetary = k_planetary[(k_planetary >= 0) & (k_planetary <=4)]"
   ]
  },
  {
   "cell_type": "code",
   "execution_count": 5,
   "metadata": {},
   "outputs": [
    {
     "data": {
      "text/plain": [
       "<matplotlib.legend.Legend at 0x231acd9d910>"
      ]
     },
     "execution_count": 5,
     "metadata": {},
     "output_type": "execute_result"
    },
    {
     "data": {
      "image/png": "[encoded data removed]",
      "text/plain": [
       "<Figure size 432x288 with 1 Axes>"
      ]
     },
     "metadata": {},
     "output_type": "display_data"
    }
   ],
   "source": [
    "plt.style.use('ggplot')\n",
    "\n",
    "middle_values, middle_base = np.histogram(k_middle,range(k_middle.min(),k_middle.max()+2))\n",
    "middle_cumulative = np.cumsum(middle_values)\n",
    "\n",
    "high_values, high_base = np.histogram(k_high,range(k_high.min(),k_high.max()+2))\n",
    "high_cumulative = np.cumsum(high_values)\n",
    "\n",
    "planetary_values, planetary_base = np.histogram(k_planetary,range(k_planetary.min(),k_planetary.max()+2))\n",
    "planetary_cumulative = np.cumsum(planetary_values)\n",
    "\n",
    "fig, ax = plt.subplots()\n",
    "ax.set(xlabel='K-index',ylabel='Count',title='CDF for Middle, High, Planetary')\n",
    "ax.plot(middle_base[:-1], middle_cumulative, '-^',label='Middle')\n",
    "ax.plot(high_base[:-1], high_cumulative, '-^',label='High')\n",
    "ax.plot(planetary_base[:-1], planetary_cumulative, '-^',label='Planetary')\n",
    "plt.xticks(np.arange(0,5))\n",
    "ax.legend()"
   ]
  },
  {
   "cell_type": "code",
   "execution_count": 38,
   "metadata": {},
   "outputs": [
    {
     "name": "stdout",
     "output_type": "stream",
     "text": [
      "Middle\n",
      "=========\n",
      "Total hours spent at K-index of 0 : 99\n",
      "Total hours spent at K-index of 1 : 285\n",
      "Total hours spent at K-index of 2 : 225\n",
      "Total hours spent at K-index of 3 : 78\n",
      "Total hours spent at K-index of 4 : 6\n",
      "\n",
      "\n",
      "High\n",
      "=========\n",
      "Total hours spent at K-index of 0 : 303\n",
      "Total hours spent at K-index of 1 : 234\n",
      "Total hours spent at K-index of 2 : 69\n",
      "Total hours spent at K-index of 3 : 33\n",
      "Total hours spent at K-index of 4 : 36\n",
      "\n",
      "\n",
      "Planetary\n",
      "=========\n",
      "Total hours spent at K-index of 0 : 93\n",
      "Total hours spent at K-index of 1 : 384\n",
      "Total hours spent at K-index of 2 : 159\n",
      "Total hours spent at K-index of 3 : 51\n",
      "Total hours spent at K-index of 4 : 6\n"
     ]
    }
   ],
   "source": [
    "print('Middle')\n",
    "print('=========')\n",
    "for item,kindex in zip(middle_values,range(0,5)):\n",
    "    print('Total hours spent at K-index of',kindex,':',item*3)\n",
    "print('\\n')\n",
    "    \n",
    "print('High')\n",
    "print('=========')\n",
    "for item,kindex in zip(high_values,range(0,5)):\n",
    "    print('Total hours spent at K-index of',kindex,':',item*3)\n",
    "print('\\n')\n",
    "\n",
    "print('Planetary')\n",
    "print('=========')\n",
    "for item,kindex in zip(planetary_values,range(0,5)):\n",
    "    print('Total hours spent at K-index of',kindex,':',item*3)"
   ]
  },
  {
   "cell_type": "code",
   "execution_count": null,
   "metadata": {},
   "outputs": [],
   "source": []
  }
 ],
 "metadata": {
  "kernelspec": {
   "display_name": "Python 3",
   "language": "python",
   "name": "python3"
  },
  "language_info": {
   "codemirror_mode": {
    "name": "ipython",
    "version": 3
   },
   "file_extension": ".py",
   "mimetype": "text/x-python",
   "name": "python",
   "nbconvert_exporter": "python",
   "pygments_lexer": "ipython3",
   "version": "3.8.5"
  }
 },
 "nbformat": 4,
 "nbformat_minor": 4
}
